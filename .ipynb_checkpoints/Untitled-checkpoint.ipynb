{
 "cells": [
  {
   "cell_type": "markdown",
   "id": "959ac91d",
   "metadata": {},
   "source": [
    "# An introduction to markdown"
   ]
  },
  {
   "cell_type": "markdown",
   "id": "2ea3de5d",
   "metadata": {},
   "source": []
  },
  {
   "cell_type": "markdown",
   "id": "732441dd",
   "metadata": {},
   "source": [
    "# An introduction to markdown"
   ]
  },
  {
   "cell_type": "markdown",
   "id": "13cb69f4",
   "metadata": {},
   "source": [
    "# An introduction to markdown"
   ]
  },
  {
   "cell_type": "markdown",
   "id": "d01615a6",
   "metadata": {},
   "source": [
    "## Section 1: Simple caculations\n",
    "\n",
    "This is a text cell, introducing a calculation\n",
    "```python\n",
    "2 + 2\n",
    "```\n"
   ]
  },
  {
   "cell_type": "markdown",
   "id": "710c4e6e",
   "metadata": {},
   "source": [
    "# An introduction to markdown"
   ]
  },
  {
   "cell_type": "markdown",
   "id": "400980f1",
   "metadata": {},
   "source": [
    "## Section 1: Simple caculations\n",
    "\n",
    "This is a text cell, introducing a calculation\n",
    "```python\n",
    "2 + 2\n",
    "```\n"
   ]
  },
  {
   "cell_type": "code",
   "execution_count": 3,
   "id": "7ea7103c",
   "metadata": {},
   "outputs": [
    {
     "data": {
      "text/plain": [
       "4"
      ]
     },
     "execution_count": 3,
     "metadata": {},
     "output_type": "execute_result"
    }
   ],
   "source": [
    "2+2"
   ]
  },
  {
   "cell_type": "markdown",
   "id": "87f68b77",
   "metadata": {},
   "source": [
    "# An introduction to markdown"
   ]
  },
  {
   "cell_type": "markdown",
   "id": "9d216798",
   "metadata": {},
   "source": [
    "## Section 1: Simple caculations\n",
    "\n",
    "This is a text cell, introducing a calculation\n",
    "```python\n",
    "2 + 2\n",
    "```\n"
   ]
  },
  {
   "cell_type": "code",
   "execution_count": 3,
   "id": "a40b649b",
   "metadata": {},
   "outputs": [
    {
     "data": {
      "text/plain": [
       "4"
      ]
     },
     "execution_count": 3,
     "metadata": {},
     "output_type": "execute_result"
    }
   ],
   "source": [
    "2+2"
   ]
  },
  {
   "cell_type": "markdown",
   "id": "80e1dc29",
   "metadata": {},
   "source": [
    "This is another text cell, introducing another calculation, $3^7$,\n",
    "which we format as \n",
    "```python\n",
    "3 ** 7\n",
    "```"
   ]
  },
  {
   "cell_type": "code",
   "execution_count": null,
   "id": "f9bc7eb9",
   "metadata": {},
   "outputs": [],
   "source": [
    "7777"
   ]
  },
  {
   "cell_type": "markdown",
   "id": "ed3ec1bb",
   "metadata": {},
   "source": [
    "This is another text cell, introducing another calculation, $3^7$,\n",
    "which we format as \n",
    "```python\n",
    "3 ** 7\n",
    "```"
   ]
  },
  {
   "cell_type": "code",
   "execution_count": null,
   "id": "efb36138",
   "metadata": {},
   "outputs": [],
   "source": [
    "7777"
   ]
  },
  {
   "cell_type": "markdown",
   "id": "e250d993",
   "metadata": {},
   "source": [
    "# An introduction to markdown"
   ]
  },
  {
   "cell_type": "markdown",
   "id": "c3ec7c73",
   "metadata": {},
   "source": [
    "## Section 1: Simple caculations\n",
    "\n",
    "This is a text cell, introducing a calculation\n",
    "```python\n",
    "2 + 2\n",
    "```\n"
   ]
  },
  {
   "cell_type": "code",
   "execution_count": 3,
   "id": "65ab83b9",
   "metadata": {},
   "outputs": [
    {
     "data": {
      "text/plain": [
       "4"
      ]
     },
     "execution_count": 3,
     "metadata": {},
     "output_type": "execute_result"
    }
   ],
   "source": [
    "2+2"
   ]
  },
  {
   "cell_type": "markdown",
   "id": "7e115c8a",
   "metadata": {},
   "source": [
    "This is another text cell, introducing another calculation, $3^7$,\n",
    "which we format as \n",
    "```python\n",
    "3 ** 7\n",
    "```"
   ]
  },
  {
   "cell_type": "code",
   "execution_count": null,
   "id": "d20be44a",
   "metadata": {},
   "outputs": [],
   "source": [
    "7777"
   ]
  },
  {
   "cell_type": "markdown",
   "id": "2e9aba38",
   "metadata": {},
   "source": [
    "# An introduction to markdown"
   ]
  },
  {
   "cell_type": "markdown",
   "id": "e105c630",
   "metadata": {},
   "source": [
    "## Section 1: Simple caculations\n",
    "\n",
    "This is a text cell, introducing a calculation\n",
    "```python\n",
    "2 + 2\n",
    "```\n"
   ]
  },
  {
   "cell_type": "code",
   "execution_count": 3,
   "id": "67d75e47",
   "metadata": {},
   "outputs": [
    {
     "data": {
      "text/plain": [
       "4"
      ]
     },
     "execution_count": 3,
     "metadata": {},
     "output_type": "execute_result"
    }
   ],
   "source": [
    "2+2"
   ]
  },
  {
   "cell_type": "markdown",
   "id": "c377047d",
   "metadata": {},
   "source": [
    "This is another text cell, introducing another calculation, $3^7$,\n",
    "which we format as \n",
    "```python\n",
    "3 ** 7\n",
    "```"
   ]
  },
  {
   "cell_type": "code",
   "execution_count": 4,
   "id": "04a1b23f",
   "metadata": {},
   "outputs": [
    {
     "data": {
      "text/plain": [
       "7777"
      ]
     },
     "execution_count": 4,
     "metadata": {},
     "output_type": "execute_result"
    }
   ],
   "source": [
    "7777"
   ]
  },
  {
   "cell_type": "code",
   "execution_count": 6,
   "id": "17d27ae6",
   "metadata": {},
   "outputs": [
    {
     "data": {
      "text/plain": [
       "6"
      ]
     },
     "execution_count": 6,
     "metadata": {},
     "output_type": "execute_result"
    }
   ],
   "source": [
    "float1=6.9\n",
    "int(float1)"
   ]
  },
  {
   "cell_type": "code",
   "execution_count": 9,
   "id": "7d7a14ed",
   "metadata": {},
   "outputs": [
    {
     "name": "stdout",
     "output_type": "stream",
     "text": [
      "(2+3j)\n"
     ]
    },
    {
     "data": {
      "text/plain": [
       "complex"
      ]
     },
     "execution_count": 9,
     "metadata": {},
     "output_type": "execute_result"
    }
   ],
   "source": [
    "float1 = 2.0\n",
    "float2 = 3.0\n",
    "comp1 = complex(float1, float2)\n",
    "print(comp1)\n",
    "type(comp1)"
   ]
  },
  {
   "cell_type": "code",
   "execution_count": 12,
   "id": "dfd630d6",
   "metadata": {},
   "outputs": [
    {
     "data": {
      "text/plain": [
       "3"
      ]
     },
     "execution_count": 12,
     "metadata": {},
     "output_type": "execute_result"
    }
   ],
   "source": [
    "from math import *\n",
    "2 + True\n",
    "5 * False\n",
    "7 ** False\n",
    "exp(True)"
   ]
  },
  {
   "cell_type": "code",
   "execution_count": 16,
   "id": "6cb5b1be",
   "metadata": {},
   "outputs": [
    {
     "data": {
      "text/plain": [
       "False"
      ]
     },
     "execution_count": 16,
     "metadata": {},
     "output_type": "execute_result"
    }
   ],
   "source": [
    "\n",
    "3<4 ^ 2==2\n"
   ]
  },
  {
   "cell_type": "markdown",
   "id": "d1f550ac",
   "metadata": {},
   "source": []
  },
  {
   "cell_type": "code",
   "execution_count": 20,
   "id": "2bb8763b",
   "metadata": {},
   "outputs": [
    {
     "data": {
      "text/plain": [
       "12"
      ]
     },
     "execution_count": 20,
     "metadata": {},
     "output_type": "execute_result"
    }
   ],
   "source": [
    "4^8"
   ]
  },
  {
   "cell_type": "code",
   "execution_count": null,
   "id": "47325acd",
   "metadata": {},
   "outputs": [],
   "source": []
  }
 ],
 "metadata": {
  "kernelspec": {
   "display_name": "Python 3 (ipykernel)",
   "language": "python",
   "name": "python3"
  },
  "language_info": {
   "codemirror_mode": {
    "name": "ipython",
    "version": 3
   },
   "file_extension": ".py",
   "mimetype": "text/x-python",
   "name": "python",
   "nbconvert_exporter": "python",
   "pygments_lexer": "ipython3",
   "version": "3.9.13"
  }
 },
 "nbformat": 4,
 "nbformat_minor": 5
}
