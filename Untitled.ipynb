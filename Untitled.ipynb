{
 "cells": [
  {
   "cell_type": "markdown",
   "id": "2ef05c6d",
   "metadata": {},
   "source": [
    "# An introduction to markdown"
   ]
  },
  {
   "cell_type": "markdown",
   "id": "eb78ff48",
   "metadata": {},
   "source": []
  },
  {
   "cell_type": "markdown",
   "id": "2216852b",
   "metadata": {},
   "source": [
    "# An introduction to markdown"
   ]
  },
  {
   "cell_type": "markdown",
   "id": "62df71db",
   "metadata": {},
   "source": [
    "# An introduction to markdown"
   ]
  },
  {
   "cell_type": "markdown",
   "id": "91369c54",
   "metadata": {},
   "source": [
    "## Section 1: Simple caculations\n",
    "\n",
    "This is a text cell, introducing a calculation\n",
    "```python\n",
    "2 + 2\n",
    "```\n"
   ]
  },
  {
   "cell_type": "markdown",
   "id": "19a45c74",
   "metadata": {},
   "source": [
    "# An introduction to markdown"
   ]
  },
  {
   "cell_type": "markdown",
   "id": "cb92917c",
   "metadata": {},
   "source": [
    "## Section 1: Simple caculations\n",
    "\n",
    "This is a text cell, introducing a calculation\n",
    "```python\n",
    "2 + 2\n",
    "```\n"
   ]
  },
  {
   "cell_type": "code",
   "execution_count": 3,
   "id": "c4c6c506",
   "metadata": {},
   "outputs": [
    {
     "data": {
      "text/plain": [
       "4"
      ]
     },
     "execution_count": 3,
     "metadata": {},
     "output_type": "execute_result"
    }
   ],
   "source": [
    "2+2"
   ]
  },
  {
   "cell_type": "markdown",
   "id": "7b1d1f3f",
   "metadata": {},
   "source": [
    "# An introduction to markdown"
   ]
  },
  {
   "cell_type": "markdown",
   "id": "70e3fdbd",
   "metadata": {},
   "source": [
    "## Section 1: Simple caculations\n",
    "\n",
    "This is a text cell, introducing a calculation\n",
    "```python\n",
    "2 + 2\n",
    "```\n"
   ]
  },
  {
   "cell_type": "code",
   "execution_count": 3,
   "id": "a9b036fa",
   "metadata": {},
   "outputs": [
    {
     "data": {
      "text/plain": [
       "4"
      ]
     },
     "execution_count": 3,
     "metadata": {},
     "output_type": "execute_result"
    }
   ],
   "source": [
    "2+2"
   ]
  },
  {
   "cell_type": "markdown",
   "id": "f0578026",
   "metadata": {},
   "source": [
    "This is another text cell, introducing another calculation, $3^7$,\n",
    "which we format as \n",
    "```python\n",
    "3 ** 7\n",
    "```"
   ]
  },
  {
   "cell_type": "code",
   "execution_count": null,
   "id": "d20fe632",
   "metadata": {},
   "outputs": [],
   "source": [
    "7777"
   ]
  },
  {
   "cell_type": "markdown",
   "id": "795322e3",
   "metadata": {},
   "source": [
    "This is another text cell, introducing another calculation, $3^7$,\n",
    "which we format as \n",
    "```python\n",
    "3 ** 7\n",
    "```"
   ]
  },
  {
   "cell_type": "code",
   "execution_count": null,
   "id": "ca2904ed",
   "metadata": {},
   "outputs": [],
   "source": [
    "7777"
   ]
  },
  {
   "cell_type": "markdown",
   "id": "353ac86a",
   "metadata": {},
   "source": [
    "# An introduction to markdown"
   ]
  },
  {
   "cell_type": "markdown",
   "id": "fae75a98",
   "metadata": {},
   "source": [
    "## Section 1: Simple caculations\n",
    "\n",
    "This is a text cell, introducing a calculation\n",
    "```python\n",
    "2 + 2\n",
    "```\n"
   ]
  },
  {
   "cell_type": "code",
   "execution_count": 3,
   "id": "24a5bb09",
   "metadata": {},
   "outputs": [
    {
     "data": {
      "text/plain": [
       "4"
      ]
     },
     "execution_count": 3,
     "metadata": {},
     "output_type": "execute_result"
    }
   ],
   "source": [
    "2+2"
   ]
  },
  {
   "cell_type": "markdown",
   "id": "82bdf05e",
   "metadata": {},
   "source": [
    "This is another text cell, introducing another calculation, $3^7$,\n",
    "which we format as \n",
    "```python\n",
    "3 ** 7\n",
    "```"
   ]
  },
  {
   "cell_type": "code",
   "execution_count": null,
   "id": "e0b75d89",
   "metadata": {},
   "outputs": [],
   "source": [
    "7777"
   ]
  },
  {
   "cell_type": "markdown",
   "id": "9d28e53b",
   "metadata": {},
   "source": [
    "# An introduction to markdown"
   ]
  },
  {
   "cell_type": "markdown",
   "id": "f729c615",
   "metadata": {},
   "source": [
    "## Section 1: Simple caculations\n",
    "\n",
    "This is a text cell, introducing a calculation\n",
    "```python\n",
    "2 + 2\n",
    "```\n"
   ]
  },
  {
   "cell_type": "code",
   "execution_count": 3,
   "id": "15a9706c",
   "metadata": {},
   "outputs": [
    {
     "data": {
      "text/plain": [
       "4"
      ]
     },
     "execution_count": 3,
     "metadata": {},
     "output_type": "execute_result"
    }
   ],
   "source": [
    "2+2"
   ]
  },
  {
   "cell_type": "markdown",
   "id": "ab0ab143",
   "metadata": {},
   "source": [
    "This is another text cell, introducing another calculation, $3^7$,\n",
    "which we format as \n",
    "```python\n",
    "3 ** 7\n",
    "```"
   ]
  },
  {
   "cell_type": "code",
   "execution_count": 4,
   "id": "84472cce",
   "metadata": {},
   "outputs": [
    {
     "data": {
      "text/plain": [
       "7777"
      ]
     },
     "execution_count": 4,
     "metadata": {},
     "output_type": "execute_result"
    }
   ],
   "source": [
    "7777"
   ]
  },
  {
   "cell_type": "code",
   "execution_count": 6,
   "id": "3998f620",
   "metadata": {},
   "outputs": [
    {
     "data": {
      "text/plain": [
       "6"
      ]
     },
     "execution_count": 6,
     "metadata": {},
     "output_type": "execute_result"
    }
   ],
   "source": [
    "float1=6.9\n",
    "int(float1)"
   ]
  },
  {
   "cell_type": "code",
   "execution_count": 9,
   "id": "cb16289c",
   "metadata": {},
   "outputs": [
    {
     "name": "stdout",
     "output_type": "stream",
     "text": [
      "(2+3j)\n"
     ]
    },
    {
     "data": {
      "text/plain": [
       "complex"
      ]
     },
     "execution_count": 9,
     "metadata": {},
     "output_type": "execute_result"
    }
   ],
   "source": [
    "float1 = 2.0\n",
    "float2 = 3.0\n",
    "comp1 = complex(float1, float2)\n",
    "print(comp1)\n",
    "type(comp1)"
   ]
  },
  {
   "cell_type": "code",
   "execution_count": 12,
   "id": "7fee894a",
   "metadata": {},
   "outputs": [
    {
     "data": {
      "text/plain": [
       "3"
      ]
     },
     "execution_count": 12,
     "metadata": {},
     "output_type": "execute_result"
    }
   ],
   "source": [
    "from math import *\n",
    "2 + True\n",
    "5 * False\n",
    "7 ** False\n",
    "exp(True)"
   ]
  },
  {
   "cell_type": "code",
   "execution_count": 16,
   "id": "7b3a27e9",
   "metadata": {},
   "outputs": [
    {
     "data": {
      "text/plain": [
       "False"
      ]
     },
     "execution_count": 16,
     "metadata": {},
     "output_type": "execute_result"
    }
   ],
   "source": [
    "\n",
    "3<4 ^ 2==2\n"
   ]
  },
  {
   "cell_type": "markdown",
   "id": "74264400",
   "metadata": {},
   "source": []
  },
  {
   "cell_type": "code",
   "execution_count": 21,
   "id": "03c07180",
   "metadata": {},
   "outputs": [
    {
     "data": {
      "text/plain": [
       "12"
      ]
     },
     "execution_count": 21,
     "metadata": {},
     "output_type": "execute_result"
    }
   ],
   "source": [
    "4^8"
   ]
  },
  {
   "cell_type": "code",
   "execution_count": 42,
   "id": "b56169fb",
   "metadata": {},
   "outputs": [
    {
     "name": "stdout",
     "output_type": "stream",
     "text": [
      "['y', 'e', '', 'eel', '']\n"
     ]
    },
    {
     "data": {
      "text/plain": [
       "'ykekkeelk'"
      ]
     },
     "execution_count": 42,
     "metadata": {},
     "output_type": "execute_result"
    }
   ],
   "source": [
    "string1='y e  eel '\n",
    "a=string1.split(' ')\n",
    "print(a)\n",
    "'k'.join(a)"
   ]
  },
  {
   "cell_type": "code",
   "execution_count": 45,
   "id": "1076adb5",
   "metadata": {},
   "outputs": [
    {
     "data": {
      "text/plain": [
       "'aa j'"
      ]
     },
     "execution_count": 45,
     "metadata": {},
     "output_type": "execute_result"
    }
   ],
   "source": [
    "a = 'a{} {}'\n",
    "a.format('a','j')"
   ]
  },
  {
   "cell_type": "code",
   "execution_count": 47,
   "id": "80f95a49",
   "metadata": {},
   "outputs": [
    {
     "data": {
      "text/plain": [
       "'a3 4'"
      ]
     },
     "execution_count": 47,
     "metadata": {},
     "output_type": "execute_result"
    }
   ],
   "source": [
    "'a{} {}'.format(3,4)"
   ]
  },
  {
   "cell_type": "code",
   "execution_count": 48,
   "id": "2389844d",
   "metadata": {},
   "outputs": [
    {
     "data": {
      "text/plain": [
       "'j15, is 1'"
      ]
     },
     "execution_count": 48,
     "metadata": {},
     "output_type": "execute_result"
    }
   ],
   "source": [
    "from random import randint\n",
    "a = randint(1,100)\n",
    "b = randint(1,100)\n",
    "f'j{a}, is {b}'"
   ]
  },
  {
   "cell_type": "code",
   "execution_count": 61,
   "id": "c48b4df2",
   "metadata": {},
   "outputs": [
    {
     "name": "stdout",
     "output_type": "stream",
     "text": [
      "('j', 'e')\n"
     ]
    }
   ],
   "source": [
    "a = 'j','e'\n",
    "print(a)"
   ]
  },
  {
   "cell_type": "code",
   "execution_count": 66,
   "id": "6a36252f",
   "metadata": {},
   "outputs": [
    {
     "name": "stdout",
     "output_type": "stream",
     "text": [
      "('w', 'w')\n"
     ]
    }
   ],
   "source": [
    "a = ('w',)\n",
    "a = a + a\n",
    "print(a)"
   ]
  },
  {
   "cell_type": "code",
   "execution_count": 72,
   "id": "6d5b6d7b",
   "metadata": {},
   "outputs": [
    {
     "data": {
      "text/plain": [
       "'brown, dog, fox, jumps, lazy, over, quick, the, the'"
      ]
     },
     "execution_count": 72,
     "metadata": {},
     "output_type": "execute_result"
    }
   ],
   "source": [
    "string1 = 'The quick brown fox jumps over the lazy dog'\n",
    "string1 = string1.lower()\n",
    "string2 = string1.split(' ')\n",
    "', '.join(sorted(string2))\n"
   ]
  },
  {
   "cell_type": "code",
   "execution_count": 77,
   "id": "90be9a28",
   "metadata": {},
   "outputs": [
    {
     "ename": "TypeError",
     "evalue": "'str' object does not support item assignment",
     "output_type": "error",
     "traceback": [
      "\u001b[0;31m---------------------------------------------------------------------------\u001b[0m",
      "\u001b[0;31mTypeError\u001b[0m                                 Traceback (most recent call last)",
      "\u001b[0;32m/var/folders/1h/gq0n253s7b9cwkyk8qdjt8f00000gn/T/ipykernel_3895/1033847576.py\u001b[0m in \u001b[0;36m<module>\u001b[0;34m\u001b[0m\n\u001b[1;32m      1\u001b[0m \u001b[0mpolyhedron_template\u001b[0m \u001b[0;34m=\u001b[0m \u001b[0;34m'The regular solid known as the {} has {} {} faces, {} edges and {} vertices.'\u001b[0m\u001b[0;34m\u001b[0m\u001b[0;34m\u001b[0m\u001b[0m\n\u001b[1;32m      2\u001b[0m \u001b[0mpolyhedron_template\u001b[0m\u001b[0;34m.\u001b[0m\u001b[0msplit\u001b[0m\u001b[0;34m(\u001b[0m\u001b[0;34m' '\u001b[0m\u001b[0;34m)\u001b[0m\u001b[0;34m\u001b[0m\u001b[0;34m\u001b[0m\u001b[0m\n\u001b[0;32m----> 3\u001b[0;31m \u001b[0mpolyhedron_template\u001b[0m\u001b[0;34m[\u001b[0m\u001b[0;36m6\u001b[0m\u001b[0;34m]\u001b[0m \u001b[0;34m=\u001b[0m \u001b[0;34m'6'\u001b[0m\u001b[0;34m\u001b[0m\u001b[0;34m\u001b[0m\u001b[0m\n\u001b[0m",
      "\u001b[0;31mTypeError\u001b[0m: 'str' object does not support item assignment"
     ]
    }
   ],
   "source": [
    "polyhedron_template = polyhedron_template3 = \n",
    "cube_data = [8, 12, 6, 'square', 'cube']\n",
    "polyhedron_template3.format(cube_data)\n",
    "polyhedron_template.split(' ')\n",
    "polyhedron_template[6] = '6'"
   ]
  },
  {
   "cell_type": "code",
   "execution_count": 82,
   "id": "92f415c4",
   "metadata": {},
   "outputs": [
    {
     "data": {
      "text/plain": [
       "\"The regular solid known as the [8, 12, 6, 'square', 'cube'] vertices.\""
      ]
     },
     "execution_count": 82,
     "metadata": {},
     "output_type": "execute_result"
    }
   ],
   "source": [
    "polyhedron_template3 = 'The regular solid known as the {} vertices.'\n",
    "cube_data = [8, 12, 6, 'square', 'cube']\n",
    "polyhedron_template3.format(cube_data)"
   ]
  },
  {
   "cell_type": "code",
   "execution_count": 86,
   "id": "4cfccc4a",
   "metadata": {},
   "outputs": [
    {
     "ename": "IndexError",
     "evalue": "Replacement index 2 out of range for positional args tuple",
     "output_type": "error",
     "traceback": [
      "\u001b[0;31m---------------------------------------------------------------------------\u001b[0m",
      "\u001b[0;31mIndexError\u001b[0m                                Traceback (most recent call last)",
      "\u001b[0;32m/var/folders/1h/gq0n253s7b9cwkyk8qdjt8f00000gn/T/ipykernel_3895/1361321011.py\u001b[0m in \u001b[0;36m<module>\u001b[0;34m\u001b[0m\n\u001b[1;32m      1\u001b[0m \u001b[0mpolyhedron_template3\u001b[0m \u001b[0;34m=\u001b[0m \u001b[0;34m'The regular solid known as the %s has {2} {3} faces, {1} edges and {0} vertices.'\u001b[0m\u001b[0;34m\u001b[0m\u001b[0;34m\u001b[0m\u001b[0m\n\u001b[1;32m      2\u001b[0m \u001b[0mcube_data\u001b[0m \u001b[0;34m=\u001b[0m \u001b[0;34m[\u001b[0m\u001b[0;36m8\u001b[0m\u001b[0;34m,\u001b[0m \u001b[0;36m12\u001b[0m\u001b[0;34m,\u001b[0m \u001b[0;36m6\u001b[0m\u001b[0;34m,\u001b[0m \u001b[0;34m'square'\u001b[0m\u001b[0;34m,\u001b[0m \u001b[0;34m'cube'\u001b[0m\u001b[0;34m]\u001b[0m\u001b[0;34m\u001b[0m\u001b[0;34m\u001b[0m\u001b[0m\n\u001b[0;32m----> 3\u001b[0;31m \u001b[0mpolyhedron_template3\u001b[0m\u001b[0;34m.\u001b[0m\u001b[0mformat\u001b[0m\u001b[0;34m(\u001b[0m\u001b[0mcube_data\u001b[0m\u001b[0;34m)\u001b[0m\u001b[0;34m\u001b[0m\u001b[0;34m\u001b[0m\u001b[0m\n\u001b[0m",
      "\u001b[0;31mIndexError\u001b[0m: Replacement index 2 out of range for positional args tuple"
     ]
    }
   ],
   "source": [
    "polyhedron_template3 = 'The regular solid known as the %s has {4} {3} faces, {1} edges and {0} vertices.'\n",
    "cube_data = [8, 12, 6, 'square', 'cube']\n",
    "polyhedron_template3.format(cube_data)"
   ]
  },
  {
   "cell_type": "code",
   "execution_count": 89,
   "id": "de01e2ce",
   "metadata": {},
   "outputs": [
    {
     "name": "stdout",
     "output_type": "stream",
     "text": [
      "list is [1, 3, 5] and float is 4.320000\n"
     ]
    }
   ],
   "source": [
    "num = 4.32\n",
    "lis = [1, 3, 5]\n",
    "print('list is %(a)s and float is %(b)f' %{'b': num, 'a': lis})"
   ]
  },
  {
   "cell_type": "code",
   "execution_count": null,
   "id": "767175b1",
   "metadata": {},
   "outputs": [],
   "source": []
  }
 ],
 "metadata": {
  "kernelspec": {
   "display_name": "Python 3 (ipykernel)",
   "language": "python",
   "name": "python3"
  },
  "language_info": {
   "codemirror_mode": {
    "name": "ipython",
    "version": 3
   },
   "file_extension": ".py",
   "mimetype": "text/x-python",
   "name": "python",
   "nbconvert_exporter": "python",
   "pygments_lexer": "ipython3",
   "version": "3.9.13"
  }
 },
 "nbformat": 4,
 "nbformat_minor": 5
}
